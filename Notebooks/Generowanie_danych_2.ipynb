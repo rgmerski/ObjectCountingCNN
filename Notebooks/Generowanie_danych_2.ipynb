{
  "nbformat": 4,
  "nbformat_minor": 0,
  "metadata": {
    "colab": {
      "name": "Generowanie danych - 2.ipynb",
      "provenance": [],
      "collapsed_sections": [],
      "authorship_tag": "ABX9TyOGMDfnh+ngoG39i6CCosSy",
      "include_colab_link": true
    },
    "kernelspec": {
      "name": "python3",
      "display_name": "Python 3"
    },
    "language_info": {
      "name": "python"
    }
  },
  "cells": [
    {
      "cell_type": "markdown",
      "metadata": {
        "id": "view-in-github",
        "colab_type": "text"
      },
      "source": [
        "<a href=\"https://colab.research.google.com/github/rgmerski/ObjectCountingCNN/blob/main/Notebooks/Generowanie_danych_2.ipynb\" target=\"_parent\"><img src=\"https://colab.research.google.com/assets/colab-badge.svg\" alt=\"Open In Colab\"/></a>"
      ]
    },
    {
      "cell_type": "markdown",
      "metadata": {
        "id": "vZhGlJZY_Z5h"
      },
      "source": [
        "# Generowanie datasetu - kilka obiektów (rysowanie manualne z różnymi kolorami byłoby bardzo żmudne)"
      ]
    },
    {
      "cell_type": "code",
      "metadata": {
        "id": "FKj6bXno_gib"
      },
      "source": [
        "from PIL import Image, ImageDraw\n"
      ],
      "execution_count": null,
      "outputs": []
    },
    {
      "cell_type": "markdown",
      "metadata": {
        "id": "ISVMNJ1NQ7xX"
      },
      "source": [
        "**PLAN KOORDYNATÓW**\n",
        "\n",
        "1. Trójkąt - lewy górny, kwadrat - prawy dolny\n",
        "2. Trójkąt - lewy górny, koło - prawy dolny\n",
        "3. Kwadrat - lewy górny, koło - prawy dolny\n",
        "\n",
        "**W celu zwiększenia ilości danych można zamienić miejscami - tzn dodać kolejne listy koordynatów**\n",
        "\n",
        "Mogą również być 2 takie same figury"
      ]
    },
    {
      "cell_type": "markdown",
      "metadata": {
        "id": "vFMiooo0QcUr"
      },
      "source": [
        "Wybór kolorów, koordynaty trójkąta i kwadratu"
      ]
    },
    {
      "cell_type": "code",
      "metadata": {
        "id": "-oWdwydqCnTk"
      },
      "source": [
        "#                 fioletowy,    niebieski,     zolty,         czarny,     zielony,        rozowy,         czerwony \n",
        "all_colors = [(163, 73, 164), (0, 162, 232), (255, 242, 0), (0, 0, 0), (34, 177, 76), (255, 174, 201), (237, 28, 36) ]\n",
        "\n",
        "#zwiększenie ilości danych bez augumentacji - więcej kolorów, zmiany ew. listy długości (lista koordynatów)\n",
        "\n",
        "# mozna sparametryzowac po dlugosciach bokow, lokalizacja dla tego problemu nie ma znaczenia (tzn nie ma sensu zamieniac miejscami - ewentualnie dodanie danych)\n",
        "a_tr = 450    #długość podstawy\n",
        "h_tr = 400    #wysokość\n",
        "\n",
        "# (x_tr, y_tr) - punkt początkowy \"lewy dolny\"\n",
        "# zeby trojkat sie zmiescil 0<=x_tr<=1024-a_tr, h_tr<=y_tr<=1024\n",
        "x_tr = 60\n",
        "y_tr = 500\n",
        "\n",
        "# 0<=x_k<=1024-a_k    0<=y_k<=1024-a_k\n",
        "a_k = 400     #długość boku kwadratu\n",
        "\n",
        "#(x_k, y_k) - punkt początkowy \"lewy górny\"\n",
        "x_k = 600     \n",
        "y_k = 600\n",
        "\n",
        "coord_tr = [(x_tr, y_tr), (x_tr+(a_tr/2), y_tr-h_tr),(x_tr+a_tr, y_tr)]\n",
        "\n",
        "coord_k = [(x_k, y_k), (x_k, y_k+a_k), (x_k+a_k, y_k+a_k), (x_k+a_k, y_k)]\n"
      ],
      "execution_count": null,
      "outputs": []
    },
    {
      "cell_type": "markdown",
      "metadata": {
        "id": "yZdLIy1cIEeK"
      },
      "source": [
        "#Rysowanie układu trójkąt - kwadrat"
      ]
    },
    {
      "cell_type": "code",
      "metadata": {
        "id": "M-zhy0nIIJK5"
      },
      "source": [
        "for x in range(len(all_colors)):\n",
        "  #x -> jeden kolor\n",
        "  #i -> drugi kolor\n",
        "  for i in range(len(all_colors)):\n",
        "    img = Image.new('RGB', (1024,1024), (255, 255, 255))\n",
        "    drw = ImageDraw.Draw(img)\n",
        "\n",
        "    drw.polygon(coord_tr, fill = all_colors[x])\n",
        "    drw.polygon(coord_k, fill = all_colors[i])\n",
        "    temp_a = 'tr_'+str(x+1)\n",
        "    temp_b = '_k_'+str(i+1)\n",
        "    z=temp_a+temp_b\n",
        "    #print(z)\n",
        "    \n",
        "    img.save('2/'+z+'.png')"
      ],
      "execution_count": null,
      "outputs": []
    },
    {
      "cell_type": "markdown",
      "metadata": {
        "id": "Gxp7BNs5NMjL"
      },
      "source": [
        "#Rysowanie układu trójkąt - koło (koło w miejsce kwadratu)"
      ]
    },
    {
      "cell_type": "markdown",
      "metadata": {
        "id": "6q6BDXfaQZ1q"
      },
      "source": [
        "Koordynaty koła"
      ]
    },
    {
      "cell_type": "code",
      "metadata": {
        "colab": {
          "base_uri": "https://localhost:8080/"
        },
        "id": "NYYZ5suFNRGS",
        "outputId": "5cf94820-2abf-42bf-fa3b-74e549a5152e"
      },
      "source": [
        "r=200\n",
        "\n",
        "# r<=x_ko<=1024-r   r<=y_ko<=1024-r\n",
        "x_ko = 800\n",
        "y_ko = 800\n",
        "\n",
        "#obejscie - tylko elipsy\n",
        "\n",
        "coord_ko = [(x_ko-r, y_ko-r), (x_ko+r, y_ko+r)]\n",
        "print(coord_ko)"
      ],
      "execution_count": null,
      "outputs": [
        {
          "output_type": "stream",
          "text": [
            "[(600, 600), (1000, 1000)]\n"
          ],
          "name": "stdout"
        }
      ]
    },
    {
      "cell_type": "code",
      "metadata": {
        "id": "cBsfNlVvOgYX"
      },
      "source": [
        "for x in range(len(all_colors)):\n",
        "  #x -> jeden kolor\n",
        "  #i -> drugi kolor\n",
        "  for i in range(len(all_colors)):\n",
        "    img = Image.new('RGB', (1024,1024), (255, 255, 255))\n",
        "    drw = ImageDraw.Draw(img)\n",
        "\n",
        "    drw.polygon(coord_tr, fill = all_colors[x])\n",
        "    drw.ellipse(coord_ko, fill = all_colors[i])\n",
        "\n",
        "    temp_a = 'tr_'+str(x+1)\n",
        "    temp_b = '_ko_'+str(i+1)\n",
        "    z=temp_a+temp_b\n",
        "\n",
        "    #print(z)\n",
        "\n",
        "    img.save('2/'+z+'.png')\n"
      ],
      "execution_count": null,
      "outputs": []
    },
    {
      "cell_type": "markdown",
      "metadata": {
        "id": "jyaspjHPQQDK"
      },
      "source": [
        "#Rysowanie układu kwadrat - koło (kwadrat na miejscu trójkąta)"
      ]
    },
    {
      "cell_type": "markdown",
      "metadata": {
        "id": "zsWOQjNCRWO1"
      },
      "source": [
        "Druga lista koordynatów dla kwadratu"
      ]
    },
    {
      "cell_type": "code",
      "metadata": {
        "id": "3bmL_za8RZNO"
      },
      "source": [
        "# do zmiany koordynatów - zmiana początkowych (x,y)\n",
        "#a_k = 400 \n",
        "\n",
        "#x_k = 600\n",
        "#y_k = 600\n",
        "\n",
        "\n",
        "x_k_1 = 60\n",
        "y_k_1 = 60\n",
        "\n",
        "#coord_k = [(x_k, y_k), (x_k, y_k+a_k), (x_k+a_k, y_k+a_k), (x_k+a_k, y_k)]\n",
        "coord_k_1 = [(x_k_1, y_k_1), (x_k_1, y_k_1+a_k), (x_k_1+a_k, y_k_1+a_k), (x_k_1+a_k, y_k_1)]"
      ],
      "execution_count": null,
      "outputs": []
    },
    {
      "cell_type": "code",
      "metadata": {
        "id": "RtoCuhQsTBKP"
      },
      "source": [
        "for x in range(len(all_colors)):\n",
        "  #x -> jeden kolor\n",
        "  #i -> drugi kolor\n",
        "  for i in range(len(all_colors)):\n",
        "    img = Image.new('RGB', (1024,1024), (255, 255, 255))\n",
        "    drw = ImageDraw.Draw(img)\n",
        "\n",
        "    drw.polygon(coord_k_1, fill = all_colors[x])\n",
        "    drw.ellipse(coord_ko, fill = all_colors[i])\n",
        "\n",
        "    temp_a = 'k1_'+str(x+1)\n",
        "    temp_b = '_ko_'+str(i+1)\n",
        "    z=temp_a+temp_b\n",
        "\n",
        "    #print(z)\n",
        "\n",
        "    img.save('2/'+z+'.png')"
      ],
      "execution_count": null,
      "outputs": []
    },
    {
      "cell_type": "markdown",
      "metadata": {
        "id": "LgHJ27V9T8Mu"
      },
      "source": [
        "# Pobranie wyników\n"
      ]
    },
    {
      "cell_type": "code",
      "metadata": {
        "colab": {
          "base_uri": "https://localhost:8080/"
        },
        "id": "YPFUFsk8T-Xf",
        "outputId": "96ae7268-341c-4e3d-ea56-82e9693c1381"
      },
      "source": [
        "!zip -r /content/2.zip /content/2"
      ],
      "execution_count": null,
      "outputs": [
        {
          "output_type": "stream",
          "text": [
            "updating: content/2/ (stored 0%)\n",
            "updating: content/2/k1_5_ko_5.png (deflated 60%)\n",
            "updating: content/2/tr_1_ko_7.png (deflated 37%)\n",
            "updating: content/2/tr_2_ko_1.png (deflated 37%)\n",
            "updating: content/2/k1_4_ko_2.png (deflated 60%)\n",
            "updating: content/2/k1_5_ko_4.png (deflated 60%)\n",
            "updating: content/2/tr_3_k_5.png (deflated 58%)\n",
            "updating: content/2/tr_1_ko_5.png (deflated 37%)\n",
            "updating: content/2/k1_3_ko_2.png (deflated 60%)\n",
            "updating: content/2/tr_7_ko_7.png (deflated 37%)\n",
            "updating: content/2/tr_5_k_2.png (deflated 58%)\n",
            "updating: content/2/tr_6_k_6.png (deflated 58%)\n",
            "updating: content/2/tr_6_ko_1.png (deflated 37%)\n",
            "updating: content/2/k1_6_ko_7.png (deflated 60%)\n",
            "updating: content/2/k1_1_ko_2.png (deflated 60%)\n",
            "updating: content/2/k1_3_ko_4.png (deflated 60%)\n",
            "updating: content/2/tr_2_ko_2.png (deflated 37%)\n",
            "updating: content/2/k1_3_ko_6.png (deflated 60%)\n",
            "updating: content/2/tr_2_k_3.png (deflated 58%)\n",
            "updating: content/2/tr_5_ko_2.png (deflated 37%)\n",
            "updating: content/2/tr_5_k_3.png (deflated 58%)\n",
            "updating: content/2/tr_6_ko_2.png (deflated 37%)\n",
            "updating: content/2/tr_6_k_3.png (deflated 58%)\n",
            "updating: content/2/tr_6_ko_7.png (deflated 37%)\n",
            "updating: content/2/tr_3_k_3.png (deflated 58%)\n",
            "updating: content/2/tr_7_k_1.png (deflated 59%)\n",
            "updating: content/2/k1_2_ko_4.png (deflated 60%)\n",
            "updating: content/2/tr_2_ko_4.png (deflated 37%)\n",
            "updating: content/2/tr_5_ko_5.png (deflated 37%)\n",
            "updating: content/2/k1_1_ko_3.png (deflated 60%)\n",
            "updating: content/2/tr_6_k_1.png (deflated 58%)\n",
            "updating: content/2/k1_7_ko_4.png (deflated 60%)\n",
            "updating: content/2/tr_4_ko_1.png (deflated 37%)\n",
            "updating: content/2/tr_3_k_2.png (deflated 58%)\n",
            "updating: content/2/k1_5_ko_1.png (deflated 60%)\n",
            "updating: content/2/k1_6_ko_2.png (deflated 60%)\n",
            "updating: content/2/tr_4_k_1.png (deflated 58%)\n",
            "updating: content/2/k1_6_ko_6.png (deflated 60%)\n",
            "updating: content/2/tr_1_ko_6.png (deflated 37%)\n",
            "updating: content/2/tr_5_ko_3.png (deflated 37%)\n",
            "updating: content/2/tr_5_k_7.png (deflated 59%)\n",
            "updating: content/2/tr_4_k_5.png (deflated 58%)\n",
            "updating: content/2/tr_6_k_2.png (deflated 58%)\n",
            "updating: content/2/k1_5_ko_6.png (deflated 60%)\n",
            "updating: content/2/k1_2_ko_6.png (deflated 60%)\n",
            "updating: content/2/k1_7_ko_6.png (deflated 60%)\n",
            "updating: content/2/k1_1_ko_4.png (deflated 60%)\n",
            "updating: content/2/tr_4_k_2.png (deflated 59%)\n",
            "updating: content/2/tr_7_k_2.png (deflated 58%)\n",
            "updating: content/2/k1_6_ko_5.png (deflated 60%)\n",
            "updating: content/2/k1_5_ko_3.png (deflated 60%)\n",
            "updating: content/2/tr_7_ko_5.png (deflated 37%)\n",
            "updating: content/2/tr_2_ko_5.png (deflated 37%)\n",
            "updating: content/2/tr_4_ko_2.png (deflated 37%)\n",
            "updating: content/2/k1_2_ko_2.png (deflated 60%)\n",
            "updating: content/2/tr_5_k_6.png (deflated 58%)\n",
            "updating: content/2/tr_4_ko_4.png (deflated 37%)\n",
            "updating: content/2/tr_1_k_6.png (deflated 58%)\n",
            "updating: content/2/tr_1_ko_4.png (deflated 37%)\n",
            "updating: content/2/k1_5_ko_7.png (deflated 60%)\n",
            "updating: content/2/k1_7_ko_3.png (deflated 60%)\n",
            "updating: content/2/tr_1_k_4.png (deflated 58%)\n",
            "updating: content/2/tr_5_ko_4.png (deflated 37%)\n",
            "updating: content/2/tr_2_k_2.png (deflated 58%)\n",
            "updating: content/2/tr_6_k_4.png (deflated 58%)\n",
            "updating: content/2/k1_2_ko_1.png (deflated 60%)\n",
            "updating: content/2/k1_4_ko_7.png (deflated 60%)\n",
            "updating: content/2/k1_7_ko_1.png (deflated 60%)\n",
            "updating: content/2/k1_4_ko_4.png (deflated 60%)\n",
            "updating: content/2/k1_3_ko_7.png (deflated 60%)\n",
            "updating: content/2/tr_5_k_4.png (deflated 58%)\n",
            "updating: content/2/k1_6_ko_1.png (deflated 60%)\n",
            "updating: content/2/tr_4_k_7.png (deflated 58%)\n",
            "updating: content/2/tr_2_k_4.png (deflated 58%)\n",
            "updating: content/2/tr_1_k_2.png (deflated 58%)\n",
            "updating: content/2/tr_1_k_1.png (deflated 59%)\n",
            "updating: content/2/tr_7_k_5.png (deflated 59%)\n",
            "updating: content/2/tr_3_k_4.png (deflated 58%)\n",
            "updating: content/2/k1_7_ko_2.png (deflated 60%)\n",
            "updating: content/2/tr_3_ko_4.png (deflated 37%)\n",
            "updating: content/2/tr_1_k_7.png (deflated 59%)\n",
            "updating: content/2/tr_1_k_3.png (deflated 58%)\n",
            "updating: content/2/tr_2_k_1.png (deflated 59%)\n",
            "updating: content/2/k1_1_ko_6.png (deflated 60%)\n",
            "updating: content/2/tr_3_k_6.png (deflated 58%)\n",
            "updating: content/2/k1_4_ko_3.png (deflated 60%)\n",
            "updating: content/2/k1_3_ko_3.png (deflated 60%)\n",
            "updating: content/2/tr_7_k_6.png (deflated 58%)\n",
            "updating: content/2/tr_3_ko_5.png (deflated 37%)\n",
            "updating: content/2/tr_1_ko_1.png (deflated 37%)\n",
            "updating: content/2/tr_4_ko_3.png (deflated 37%)\n",
            "updating: content/2/k1_7_ko_5.png (deflated 60%)\n",
            "updating: content/2/tr_6_k_5.png (deflated 58%)\n",
            "updating: content/2/k1_1_ko_5.png (deflated 60%)\n",
            "updating: content/2/tr_3_ko_3.png (deflated 37%)\n",
            "updating: content/2/tr_2_ko_7.png (deflated 37%)\n",
            "updating: content/2/tr_1_ko_2.png (deflated 37%)\n",
            "updating: content/2/k1_2_ko_7.png (deflated 60%)\n",
            "updating: content/2/k1_3_ko_5.png (deflated 60%)\n",
            "updating: content/2/tr_7_k_3.png (deflated 58%)\n",
            "updating: content/2/tr_6_ko_3.png (deflated 37%)\n",
            "updating: content/2/tr_7_ko_6.png (deflated 37%)\n",
            "updating: content/2/tr_4_ko_5.png (deflated 37%)\n",
            "updating: content/2/k1_1_ko_1.png (deflated 60%)\n",
            "updating: content/2/tr_1_k_5.png (deflated 59%)\n",
            "updating: content/2/tr_7_ko_2.png (deflated 37%)\n",
            "updating: content/2/tr_6_k_7.png (deflated 58%)\n",
            "updating: content/2/tr_5_ko_7.png (deflated 37%)\n",
            "updating: content/2/tr_2_k_6.png (deflated 58%)\n",
            "updating: content/2/tr_6_ko_6.png (deflated 37%)\n",
            "updating: content/2/tr_2_k_7.png (deflated 59%)\n",
            "updating: content/2/tr_3_k_1.png (deflated 58%)\n",
            "updating: content/2/tr_3_k_7.png (deflated 58%)\n",
            "updating: content/2/tr_4_k_3.png (deflated 58%)\n",
            "updating: content/2/k1_3_ko_1.png (deflated 60%)\n",
            "updating: content/2/tr_7_ko_3.png (deflated 37%)\n",
            "updating: content/2/k1_4_ko_5.png (deflated 60%)\n",
            "updating: content/2/tr_4_k_4.png (deflated 59%)\n",
            "updating: content/2/tr_5_ko_6.png (deflated 37%)\n",
            "updating: content/2/tr_5_k_1.png (deflated 59%)\n",
            "updating: content/2/k1_4_ko_6.png (deflated 60%)\n",
            "updating: content/2/tr_5_k_5.png (deflated 59%)\n",
            "updating: content/2/tr_2_ko_3.png (deflated 37%)\n",
            "updating: content/2/k1_4_ko_1.png (deflated 60%)\n",
            "updating: content/2/tr_2_k_5.png (deflated 59%)\n",
            "updating: content/2/tr_3_ko_6.png (deflated 37%)\n",
            "updating: content/2/tr_1_ko_3.png (deflated 37%)\n",
            "updating: content/2/tr_6_ko_5.png (deflated 37%)\n",
            "updating: content/2/k1_6_ko_4.png (deflated 60%)\n",
            "updating: content/2/k1_2_ko_3.png (deflated 60%)\n",
            "updating: content/2/tr_2_ko_6.png (deflated 37%)\n",
            "updating: content/2/tr_4_ko_7.png (deflated 37%)\n",
            "updating: content/2/tr_3_ko_2.png (deflated 37%)\n",
            "updating: content/2/k1_2_ko_5.png (deflated 60%)\n",
            "updating: content/2/k1_7_ko_7.png (deflated 60%)\n",
            "updating: content/2/tr_7_k_7.png (deflated 59%)\n",
            "updating: content/2/tr_7_k_4.png (deflated 58%)\n",
            "updating: content/2/tr_3_ko_7.png (deflated 37%)\n",
            "updating: content/2/tr_6_ko_4.png (deflated 37%)\n",
            "updating: content/2/tr_4_k_6.png (deflated 58%)\n",
            "updating: content/2/k1_6_ko_3.png (deflated 60%)\n",
            "updating: content/2/k1_1_ko_7.png (deflated 60%)\n",
            "updating: content/2/tr_4_ko_6.png (deflated 37%)\n",
            "updating: content/2/tr_5_ko_1.png (deflated 37%)\n",
            "updating: content/2/tr_7_ko_4.png (deflated 37%)\n",
            "updating: content/2/tr_3_ko_1.png (deflated 37%)\n",
            "updating: content/2/k1_5_ko_2.png (deflated 60%)\n",
            "updating: content/2/tr_7_ko_1.png (deflated 37%)\n"
          ],
          "name": "stdout"
        }
      ]
    },
    {
      "cell_type": "code",
      "metadata": {
        "colab": {
          "base_uri": "https://localhost:8080/",
          "height": 17
        },
        "id": "nrRGmrJDUE3D",
        "outputId": "17e191d9-9426-4bf9-8a43-e34e0a517d45"
      },
      "source": [
        "from google.colab import files\n",
        "files.download(\"/content/2.zip\")"
      ],
      "execution_count": null,
      "outputs": [
        {
          "output_type": "display_data",
          "data": {
            "application/javascript": [
              "\n",
              "    async function download(id, filename, size) {\n",
              "      if (!google.colab.kernel.accessAllowed) {\n",
              "        return;\n",
              "      }\n",
              "      const div = document.createElement('div');\n",
              "      const label = document.createElement('label');\n",
              "      label.textContent = `Downloading \"${filename}\": `;\n",
              "      div.appendChild(label);\n",
              "      const progress = document.createElement('progress');\n",
              "      progress.max = size;\n",
              "      div.appendChild(progress);\n",
              "      document.body.appendChild(div);\n",
              "\n",
              "      const buffers = [];\n",
              "      let downloaded = 0;\n",
              "\n",
              "      const channel = await google.colab.kernel.comms.open(id);\n",
              "      // Send a message to notify the kernel that we're ready.\n",
              "      channel.send({})\n",
              "\n",
              "      for await (const message of channel.messages) {\n",
              "        // Send a message to notify the kernel that we're ready.\n",
              "        channel.send({})\n",
              "        if (message.buffers) {\n",
              "          for (const buffer of message.buffers) {\n",
              "            buffers.push(buffer);\n",
              "            downloaded += buffer.byteLength;\n",
              "            progress.value = downloaded;\n",
              "          }\n",
              "        }\n",
              "      }\n",
              "      const blob = new Blob(buffers, {type: 'application/binary'});\n",
              "      const a = document.createElement('a');\n",
              "      a.href = window.URL.createObjectURL(blob);\n",
              "      a.download = filename;\n",
              "      div.appendChild(a);\n",
              "      a.click();\n",
              "      div.remove();\n",
              "    }\n",
              "  "
            ],
            "text/plain": [
              "<IPython.core.display.Javascript object>"
            ]
          },
          "metadata": {
            "tags": []
          }
        },
        {
          "output_type": "display_data",
          "data": {
            "application/javascript": [
              "download(\"download_4e7ec26d-aa56-46a7-8fac-4279567c0046\", \"2.zip\", 561252)"
            ],
            "text/plain": [
              "<IPython.core.display.Javascript object>"
            ]
          },
          "metadata": {
            "tags": []
          }
        }
      ]
    }
  ]
}