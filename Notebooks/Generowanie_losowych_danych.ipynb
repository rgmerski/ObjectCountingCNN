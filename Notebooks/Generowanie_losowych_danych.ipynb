{
  "nbformat": 4,
  "nbformat_minor": 0,
  "metadata": {
    "colab": {
      "name": "Generowanie losowych danych.ipynb",
      "provenance": [],
      "collapsed_sections": [],
      "mount_file_id": "1tlN_UfW-ftsB4DMf_R69thV03bJBWd2F",
      "authorship_tag": "ABX9TyO/Pq2C17ECTJLVP5Vyo6wb",
      "include_colab_link": true
    },
    "kernelspec": {
      "name": "python3",
      "display_name": "Python 3"
    },
    "language_info": {
      "name": "python"
    },
    "accelerator": "GPU"
  },
  "cells": [
    {
      "cell_type": "markdown",
      "metadata": {
        "id": "view-in-github",
        "colab_type": "text"
      },
      "source": [
        "<a href=\"https://colab.research.google.com/github/rgmerski/ObjectCountingCNN/blob/main/Notebooks/Generowanie_losowych_danych.ipynb\" target=\"_parent\"><img src=\"https://colab.research.google.com/assets/colab-badge.svg\" alt=\"Open In Colab\"/></a>"
      ]
    },
    {
      "cell_type": "code",
      "metadata": {
        "id": "7yfngr41wCQu"
      },
      "source": [
        "import matplotlib.pyplot as plt\n",
        "from skimage.io import imsave\n",
        "from skimage.draw import random_shapes"
      ],
      "execution_count": null,
      "outputs": []
    },
    {
      "cell_type": "markdown",
      "metadata": {
        "id": "6OWUyq1Tvdkh"
      },
      "source": [
        "Usuwanie wygenerowanych w ten sposób danych"
      ]
    },
    {
      "cell_type": "code",
      "metadata": {
        "id": "r3tVSkSYvdK5"
      },
      "source": [
        "import os, glob\n",
        "\n",
        "# ilość figur\n",
        "# val = [1, 2, 3, 4, 5, 6, 7, 8, 9, 10]\n",
        "val = [1, 2, 3, 4, 5, 6]\n",
        "\n",
        "for x in val:\n",
        "  for filename in glob.glob(\"/content/drive/MyDrive/dataset/\" + str(x) + \"/ran_*\"):\n",
        "    os.remove(filename) "
      ],
      "execution_count": null,
      "outputs": []
    },
    {
      "cell_type": "markdown",
      "metadata": {
        "id": "uUtBIkYvePIZ"
      },
      "source": [
        "Bardziej losowe generowanie danych - większa różnorodność w nich"
      ]
    },
    {
      "cell_type": "code",
      "metadata": {
        "id": "QSURuTOyeSgp"
      },
      "source": [
        "# ilość figur\n",
        "# val = [1, 2, 3, 4, 5, 6, 7, 8, 9, 10]\n",
        "val = [1, 2, 3, 4, 5, 6]\n",
        "\n",
        "# ilość wygenerowanych obrazów\n",
        "n = 200\n",
        "\n",
        "# rozmiar\n",
        "shape=(1024, 1024)\n",
        "\n",
        "for x in val:\n",
        "  \n",
        "  for i in range(n):\n",
        "    results = random_shapes(shape, min_shapes = x, max_shapes = x, min_size=100)\n",
        "    image, labels = results\n",
        "    #print(x, i)\n",
        "    #print('/content/drive/MyDrive/dataset/' + str(x) + '/ran_' + str(i) + '.png')\n",
        "    imsave( '/content/drive/MyDrive/dataset/' + str(x) + '/ran_' + str(i) + '.png', image)"
      ],
      "execution_count": null,
      "outputs": []
    }
  ]
}